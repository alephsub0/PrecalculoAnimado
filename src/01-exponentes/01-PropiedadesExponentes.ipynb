{
  "cells": [
    {
      "cell_type": "markdown",
      "metadata": {
        "id": "7874KhzCYhGl"
      },
      "source": [
        "<table style=\"border: none; border-collapse: collapse;\">\n",
        "    <tr>\n",
        "        <td style=\"width: 20%; vertical-align: middle; padding-right: 10px;\">\n",
        "            <img src=\"https://i.imgur.com/yV8JEHd.png\" width=\"100\">\n",
        "        </td>\n",
        "        <td style=\"width: 2px; text-align: center;\">\n",
        "            <font color=\"#355492\" size=\"7\">|</font><br>\n",
        "            <font color=\"#355492\" size=\"7\">|</font>\n",
        "        </td>\n",
        "        <td>\n",
        "            <p style=\"font-variant: small-caps;\"><font color=\"#355492\" size=\"5\">\n",
        "                <b>Proyecto Alephsub0</b>\n",
        "            </font> </p>\n",
        "            <p style=\"font-variant: small-caps;\"><font color=\"#355492\" size=\"4\">\n",
        "                Precálculo Animado &bull; Propiedades de los exponentes\n",
        "            </font></p>\n",
        "            <p style=\"font-style: oblique;\"><font color=\"#355492\" size=\"3\">\n",
        "                Alanis Caicedo &bull; Enero 2025\n",
        "            </font></p>\n",
        "        </td>  \n",
        "    </tr>\n",
        "</table>"
      ]
    },
    {
      "cell_type": "markdown",
      "metadata": {
        "id": "Ui-ZttPYb8_W"
      },
      "source": [
        "## <font color='#355492'> Configuración </font>"
      ]
    },
    {
      "cell_type": "code",
      "execution_count": 1,
      "metadata": {
        "id": "lkimQ-zOhyHc"
      },
      "outputs": [],
      "source": [
        "# !pip install manim\n",
        "from manim import *"
      ]
    },
    {
      "cell_type": "markdown",
      "metadata": {
        "id": "_i4mu496oGKr"
      },
      "source": [
        "Lo siguiente configura `manim` para dimensiones adecuadas para redes sociales."
      ]
    },
    {
      "cell_type": "code",
      "execution_count": 2,
      "metadata": {
        "id": "T4nDAkgusFzt"
      },
      "outputs": [],
      "source": [
        "config.media_width = \"50%\"  # Escala el video al 25% al mostrarlo en el cuaderno.\n",
        "config.verbosity = \"WARNING\"  # Muestra solo advertencias o errores.\n",
        "config.media_dir = \"tmp/media\"  # Carpeta base para los archivos generados.\n",
        "config.assets_dir = \"../../assets\" # Carpeta base para los archivos de recursos.\n",
        "\n",
        "# Cambia a video vertical\n",
        "config.frame_width = 8.0*0.975\n",
        "config.frame_height = config.frame_width * (16/9)\n"
      ]
    },
    {
      "cell_type": "code",
      "execution_count": 3,
      "metadata": {
        "id": "0KtfkXdjoCfP"
      },
      "outputs": [],
      "source": [
        "config.background_color = BLUE_E  # Color de fondo.\n"
      ]
    },
    {
      "cell_type": "markdown",
      "metadata": {
        "id": "8x0o3XqjoZAp"
      },
      "source": [
        "## <font color='#355492'> Escena de introdución </font>"
      ]
    },
    {
      "cell_type": "markdown",
      "metadata": {
        "id": "vt9wxVdX-EI1"
      },
      "source": [
        "Resoluciones pueden ser:\n",
        "```\n",
        "-r 270,480  -r 540,960 -r 1080,1920\n",
        "```\n",
        "Se tiene la opción de `-n` para establecer las subescenas."
      ]
    },
    {
      "cell_type": "code",
      "execution_count": 4,
      "metadata": {},
      "outputs": [
        {
          "data": {
            "text/html": [
              "<pre style=\"white-space:pre;overflow-x:auto;line-height:normal;font-family:Menlo,'DejaVu Sans Mono',consolas,'Courier New',monospace\">Manim Community <span style=\"color: #008000; text-decoration-color: #008000\">v0.19.0</span>\n",
              "\n",
              "</pre>\n"
            ],
            "text/plain": [
              "Manim Community \u001b[32mv0.\u001b[0m\u001b[32m19.0\u001b[0m\n",
              "\n"
            ]
          },
          "metadata": {},
          "output_type": "display_data"
        },
        {
          "name": "stderr",
          "output_type": "stream",
          "text": [
            "                                                                                         \r"
          ]
        },
        {
          "data": {
            "text/html": [
              "<video src=\"tmp\\media\\jupyter\\IntroScene@2025-02-07@19-21-09.mp4\" controls autoplay loop style=\"max-width: 25%;\"  >\n",
              "      Your browser does not support the <code>video</code> element.\n",
              "    </video>"
            ],
            "text/plain": [
              "<IPython.core.display.Video object>"
            ]
          },
          "metadata": {},
          "output_type": "display_data"
        }
      ],
      "source": [
        "%%manim -r 270,480 --fps 30 --tex_template ../../assets/aleph_template.tex IntroScene\n",
        "\n",
        "class IntroScene(Scene):\n",
        "    def construct(self):\n",
        "        # Cargar y posicionar los logos en formato SVG para mejor animación\n",
        "        logo_puce = ImageMobject(\"../assets/logoPUCE_01_b.png\").shift(UP * 4)\n",
        "        logo_aleph = ImageMobject(\"../assets/LogoAlephsub0-02.png\").scale(0.4)\n",
        "\n",
        "        # Crear los textos con nombres más representativos\n",
        "        university_name = Tex(r\"\\textbf{Pontificia Universidad\\\\ Católica del Ecuador}\", font_size=45)\n",
        "        project_name = Tex(r\"\\textbf{Proyecto Alephsub0}\", font_size=45)\n",
        "\n",
        "        # Posicionar elementos\n",
        "        university_name.next_to(logo_puce, DOWN, buff=0.8)\n",
        "        logo_aleph.next_to(university_name, DOWN, buff=1.5)\n",
        "        project_name.next_to(logo_aleph, DOWN, buff=0.8)\n",
        "\n",
        "        # Agrupar los elementos para mejor control\n",
        "        content = Group(logo_puce, university_name, logo_aleph, project_name)\n",
        "\n",
        "        # Animaciones de entrada con Create para SVG\n",
        "        self.play(FadeIn(logo_puce), Write(university_name))\n",
        "        self.wait(0.5)\n",
        "        self.play(FadeIn(logo_aleph), Write(project_name))\n",
        "        self.wait(1.5)\n",
        "\n",
        "        # Desvanecer todos los elementos antes de la siguiente escena\n",
        "        self.play(FadeOut(content))\n"
      ]
    },
    {
      "cell_type": "markdown",
      "metadata": {},
      "source": [
        "## <font color='#355492'> Introdución reglas de los exponentes </font>\n"
      ]
    },
    {
      "cell_type": "code",
      "execution_count": null,
      "metadata": {},
      "outputs": [
        {
          "data": {
            "text/html": [
              "<pre style=\"white-space:pre;overflow-x:auto;line-height:normal;font-family:Menlo,'DejaVu Sans Mono',consolas,'Courier New',monospace\">Manim Community <span style=\"color: #008000; text-decoration-color: #008000\">v0.19.0</span>\n",
              "\n",
              "</pre>\n"
            ],
            "text/plain": [
              "Manim Community \u001b[32mv0.\u001b[0m\u001b[32m19.0\u001b[0m\n",
              "\n"
            ]
          },
          "metadata": {},
          "output_type": "display_data"
        },
        {
          "name": "stderr",
          "output_type": "stream",
          "text": [
            "                                                                                                                                        \r"
          ]
        },
        {
          "data": {
            "text/html": [
              "<video src=\"tmp\\media\\jupyter\\PowerRulesIntro@2025-02-07@19-33-24.mp4\" controls autoplay loop style=\"max-width: 25%;\"  >\n",
              "      Your browser does not support the <code>video</code> element.\n",
              "    </video>"
            ],
            "text/plain": [
              "<IPython.core.display.Video object>"
            ]
          },
          "metadata": {},
          "output_type": "display_data"
        }
      ],
      "source": [
        "%%manim -r 270,480 --fps 30 --tex_template ../../assets/aleph_template.tex PowerRulesIntro\n",
        "\n",
        "from manim import *\n",
        "\n",
        "class PowerRulesIntro(Scene):\n",
        "    def construct(self):\n",
        "        # Título principal\n",
        "        title = Tex(r\"\\textbf{Reglas de Exponentes}\", font_size=60, color=YELLOW)\n",
        "        title.to_edge(UP, buff=1.5)\n",
        "\n",
        "        # Definición breve\n",
        "        definition = Tex(\n",
        "            r\"Nos ayudan a operar expresiones\\\\ que contienen potencias\",\n",
        "            font_size=36\n",
        "        ).next_to(title, DOWN, buff=1)\n",
        "\n",
        "        # Lista de propiedades\n",
        "        power_properties = VGroup(\n",
        "            Tex(r\"1. Producto de potencias\", font_size=36),\n",
        "            Tex(r\"2. Cociente de potencias\", font_size=36),\n",
        "            Tex(r\"3. Potencia de una potencia\", font_size=36),\n",
        "            Tex(r\"4. Potencia de un producto\", font_size=36),\n",
        "            Tex(r\"5. Potencia de un cociente\", font_size=36),\n",
        "            Tex(r\"6. Exponente cero\", font_size=36),\n",
        "            Tex(r\"7. Exponente negativo\", font_size=36),\n",
        "            Tex(r\"8. Exponente fraccionario\", font_size=36)\n",
        "        )\n",
        "        power_properties.arrange(DOWN, center=False, aligned_edge=LEFT, buff=0.4)\n",
        "        power_properties.next_to(definition, DOWN, buff=1)\n",
        "\n",
        "        # Agrupación para transiciones limpias\n",
        "        content = VGroup(title, definition, power_properties)\n",
        "\n",
        "        # Animaciones\n",
        "        self.play(FadeIn(title, shift=UP))  # Aparición del título con desplazamiento\n",
        "        self.wait(0.5)\n",
        "        self.play(Write(definition))  # Escritura de la definición\n",
        "        self.wait(1)\n",
        "        self.play(\n",
        "            LaggedStart(\n",
        "                *[Write(prop, shift=RIGHT) for prop in power_properties],\n",
        "                lag_ratio=0.2\n",
        "            )\n",
        "        )  # Entrada progresiva de las reglas\n",
        "        self.wait(2)\n",
        "\n",
        "        # Mantener el último fotograma o transicionar si lo deseas\n",
        "        # self.play(FadeOut(content))\n"
      ]
    },
    {
      "cell_type": "markdown",
      "metadata": {},
      "source": [
        "## <font color='#355492'> Regla del producto  </font>\n"
      ]
    },
    {
      "cell_type": "code",
      "execution_count": 37,
      "metadata": {},
      "outputs": [
        {
          "data": {
            "text/html": [
              "<pre style=\"white-space:pre;overflow-x:auto;line-height:normal;font-family:Menlo,'DejaVu Sans Mono',consolas,'Courier New',monospace\">Manim Community <span style=\"color: #008000; text-decoration-color: #008000\">v0.19.0</span>\n",
              "\n",
              "</pre>\n"
            ],
            "text/plain": [
              "Manim Community \u001b[32mv0.\u001b[0m\u001b[32m19.0\u001b[0m\n",
              "\n"
            ]
          },
          "metadata": {},
          "output_type": "display_data"
        },
        {
          "name": "stderr",
          "output_type": "stream",
          "text": [
            "                                                                                                                                                              \r"
          ]
        },
        {
          "data": {
            "text/html": [
              "<video src=\"tmp\\media\\jupyter\\ReglaProducto@2025-02-10@20-21-08.mp4\" controls autoplay loop style=\"max-width: 50%;\"  >\n",
              "      Your browser does not support the <code>video</code> element.\n",
              "    </video>"
            ],
            "text/plain": [
              "<IPython.core.display.Video object>"
            ]
          },
          "metadata": {},
          "output_type": "display_data"
        }
      ],
      "source": [
        "%%manim -r 270,480 --fps 30 --tex_template ../../assets/aleph_template.tex ReglaProducto\n",
        "\n",
        "class ReglaProducto(Scene):\n",
        "    def construct(self):\n",
        "        # Crear el título\n",
        "        title = Tex(r\"\\textbf{Producto\\\\ de Potencias}\", font_size=60, color=YELLOW).to_edge(UP, buff=1.5)\n",
        "\n",
        "        # Descripción breve\n",
        "        description = Tex(\n",
        "            r\"Cuando multiplicamos potencias\\\\ de la misma base,\\\\ sumamos los exponentes.\",\n",
        "            font_size=36\n",
        "        ).next_to(title, DOWN, buff=0.5)\n",
        "\n",
        "        # Expresión completa\n",
        "        full_expression = MathTex(\"a^n\", r\"\\cdot\", \"a^m\", \"=\", \"a^{n+m}\", font_size=96).next_to(description, DOWN, buff=1)\n",
        "        partial_expression = MathTex(\"a^n\", r\"\\cdot\", \"a^m\", font_size=120).next_to(description, DOWN, buff=1)\n",
        "\n",
        "        # Ejemplo y cálculo\n",
        "        example_title = Tex(r\"\\textbf{Ejemplo:}\", font_size=60, color=YELLOW).next_to(full_expression, DOWN, buff=1)\n",
        "        ejemplo = MathTex(\"2^3\", r\"\\cdot\", \"2^4\", \"=\", \"2^{7}\", font_size=96).next_to(example_title, DOWN, buff=0.5)\n",
        "        suma = MathTex(\"3\", \"+\", \"4\", \"=\", \"7\", font_size=60).next_to(ejemplo, DOWN, buff=0.5)\n",
        "\n",
        "        # --- ANIMACIONES ---\n",
        "        # Mostrar título y descripción\n",
        "        self.play(Write(title))\n",
        "        self.play(FadeIn(description))\n",
        "        self.wait(1)\n",
        "\n",
        "        # Mostrar la expresión parcial\n",
        "        self.play(Write(partial_expression))\n",
        "        self.wait(1)\n",
        "\n",
        "        # Transición hacia la expresión completa\n",
        "        self.play(\n",
        "            Transform(partial_expression[0:3], full_expression[0:3])# Base derecha\n",
        "        )\n",
        "        self.play(Write(full_expression[3]))  # Mostrar \"=\"\n",
        "        self.wait(1)\n",
        "\n",
        "        # Mantener la base y animar la suma de exponentes\n",
        "        self.play(\n",
        "            Transform(partial_expression[0][0].copy(), full_expression[4][0]),  # Base izquierda a resultado\n",
        "            Transform(partial_expression[2][0].copy(), full_expression[4][0]),  # Base derecha a resultado\n",
        "        )\n",
        "        self.wait(1)\n",
        "\n",
        "        self.play(\n",
        "            Transform(partial_expression[0][1].copy(), full_expression[4][1]),  # Exponente izquierdo\n",
        "            Transform(partial_expression[2][1].copy(), full_expression[4][3])   # Exponente derecho\n",
        "        )\n",
        "        self.play(Write(full_expression[4][2]))  # Mostrar \"+\"\n",
        "        self.wait(1)\n",
        "\n",
        "        # Mostrar el ejemplo\n",
        "        self.play(Write(example_title))\n",
        "        self.play(Write(ejemplo[0:3]))  # Mostrar 2^3 \\cdot 2^4\n",
        "        self.wait(1)\n",
        "\n",
        "        self.play(Write(ejemplo[3]))  # Mostrar \"=\"\n",
        "        self.wait(1)\n",
        "\n",
        "        # Mantener la base y sumar exponentes\n",
        "        self.play(\n",
        "            Transform(ejemplo[0][0].copy(), ejemplo[4][0]),  # Base izquierda\n",
        "            Transform(ejemplo[2][0].copy(), ejemplo[4][0])   # Base derecha\n",
        "        )\n",
        "        self.wait(1)\n",
        "\n",
        "        self.play(\n",
        "            ReplacementTransform(ejemplo[0][1].copy(), suma[0]),  # Exponente izquierdo al cálculo\n",
        "            ReplacementTransform(ejemplo[2][1].copy(), suma[2])   # Exponente derecho al cálculo\n",
        "        )\n",
        "        self.play(Write(suma[1]))  # Mostrar \"+\"\n",
        "        self.wait(0.5)\n",
        "\n",
        "        self.play(Write(suma[3:]))  # Mostrar \"= 7\"\n",
        "        self.wait(1)\n",
        "\n",
        "        # Transformar el resultado del cálculo en la expresión final\n",
        "        self.play(\n",
        "            Transform(suma[4].copy(), ejemplo[4][1]),\n",
        "            FadeOut(suma))\n",
        "        self.wait(2)"
      ]
    }
  ],
  "metadata": {
    "colab": {
      "provenance": []
    },
    "gpuClass": "standard",
    "kernelspec": {
      "display_name": "Python 3",
      "name": "python3"
    },
    "language_info": {
      "codemirror_mode": {
        "name": "ipython",
        "version": 3
      },
      "file_extension": ".py",
      "mimetype": "text/x-python",
      "name": "python",
      "nbconvert_exporter": "python",
      "pygments_lexer": "ipython3",
      "version": "3.11.3"
    }
  },
  "nbformat": 4,
  "nbformat_minor": 0
}
