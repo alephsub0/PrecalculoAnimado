{
  "cells": [
    {
      "cell_type": "markdown",
      "metadata": {},
      "source": [
        "<a href=\"https://colab.research.google.com/github/alephsub0/PrecalculoAnimado/00-test/test.ipynb\" target=\"_parent\"><img src=\"https://colab.research.google.com/assets/colab-badge.svg\" alt=\"Open In Colab\"/></a>"
      ]
    },
    {
      "cell_type": "markdown",
      "metadata": {
        "id": "7874KhzCYhGl"
      },
      "source": [
        "<table style=\"border: none; border-collapse: collapse;\">\n",
        "    <tr>\n",
        "        <td style=\"width: 20%; vertical-align: middle; padding-right: 10px;\">\n",
        "            <img src=\"https://i.imgur.com/yV8JEHd.png\" width=\"100\">\n",
        "        </td>\n",
        "        <td style=\"width: 2px; text-align: center;\">\n",
        "            <font color=\"#355492\" size=\"7\">|</font><br>\n",
        "            <font color=\"#355492\" size=\"7\">|</font>\n",
        "        </td>\n",
        "        <td>\n",
        "            <p style=\"font-variant: small-caps;\"><font color=\"#355492\" size=\"5\">\n",
        "                <b>Proyecto Alephsub0</b>\n",
        "            </font> </p>\n",
        "            <p style=\"font-variant: small-caps;\"><font color=\"#355492\" size=\"4\">\n",
        "                Precálculo Animado &bull; Propiedades de los exponentes\n",
        "            </font></p>\n",
        "            <p style=\"font-style: oblique;\"><font color=\"#355492\" size=\"3\">\n",
        "                Alanis Caicedo &bull; Enero 2025\n",
        "            </font></p>\n",
        "        </td>  \n",
        "    </tr>\n",
        "</table>"
      ]
    },
    {
      "cell_type": "markdown",
      "metadata": {
        "id": "Ui-ZttPYb8_W"
      },
      "source": [
        "## Configuración\n"
      ]
    },
    {
      "cell_type": "code",
      "execution_count": 5,
      "metadata": {
        "id": "lkimQ-zOhyHc"
      },
      "outputs": [],
      "source": [
        "# !pip install manim\n",
        "from manim import *"
      ]
    },
    {
      "cell_type": "markdown",
      "metadata": {
        "id": "_i4mu496oGKr"
      },
      "source": [
        "Lo siguiente configura `manim` para dimensiones adecuadas para redes sociales."
      ]
    },
    {
      "cell_type": "code",
      "execution_count": 6,
      "metadata": {
        "id": "T4nDAkgusFzt"
      },
      "outputs": [],
      "source": [
        "config.media_width = \"25%\"  # Escala el video al 25% al mostrarlo en el cuaderno.\n",
        "config.verbosity = \"WARNING\"  # Muestra solo advertencias o errores.\n",
        "config.media_dir = \"tmp/media\"  # Carpeta base para los archivos generados.\n",
        "config.assets_dir = \"../../assets\" # Carpeta base para los archivos de recursos.\n",
        "\n",
        "# Cambia a video vertical\n",
        "config.frame_width = 8.0*0.975\n",
        "config.frame_height = config.frame_width * (16/9)\n"
      ]
    },
    {
      "cell_type": "code",
      "execution_count": 7,
      "metadata": {
        "id": "0KtfkXdjoCfP"
      },
      "outputs": [],
      "source": [
        "config.background_color = BLUE_E  # Color de fondo.\n"
      ]
    },
    {
      "cell_type": "markdown",
      "metadata": {
        "id": "8x0o3XqjoZAp"
      },
      "source": [
        "## Primera escena"
      ]
    },
    {
      "cell_type": "markdown",
      "metadata": {
        "id": "vt9wxVdX-EI1"
      },
      "source": [
        "Resoluciones pueden ser:\n",
        "```\n",
        "-r 270,480  -r 540,960 -r 1080,1920\n",
        "```\n",
        "Se tiene la opción de `-n` para establecer las subescenas."
      ]
    },
    {
      "cell_type": "code",
      "execution_count": 8,
      "metadata": {},
      "outputs": [
        {
          "data": {
            "text/html": [
              "<pre style=\"white-space:pre;overflow-x:auto;line-height:normal;font-family:Menlo,'DejaVu Sans Mono',consolas,'Courier New',monospace\">Manim Community <span style=\"color: #008000; text-decoration-color: #008000\">v0.19.0</span>\n",
              "\n",
              "</pre>\n"
            ],
            "text/plain": [
              "Manim Community \u001b[32mv0.\u001b[0m\u001b[32m19.0\u001b[0m\n",
              "\n"
            ]
          },
          "metadata": {},
          "output_type": "display_data"
        },
        {
          "name": "stderr",
          "output_type": "stream",
          "text": [
            "                                                                                           \r"
          ]
        },
        {
          "data": {
            "text/html": [
              "<video src=\"tmp\\media\\jupyter\\PrimeraEscena@2025-01-23@22-31-46.mp4\" controls autoplay loop style=\"max-width: 25%;\"  >\n",
              "      Your browser does not support the <code>video</code> element.\n",
              "    </video>"
            ],
            "text/plain": [
              "<IPython.core.display.Video object>"
            ]
          },
          "metadata": {},
          "output_type": "display_data"
        }
      ],
      "source": [
        "%%manim -r 1080,1920 --fps 60 PrimeraEscena\n",
        "\n",
        "class PrimeraEscena(Scene):\n",
        "    def construct(self):\n",
        "        ## Textos\n",
        "        texto = Text(\"¡Hola, Mundo!\").scale(1.5)\n",
        "\n",
        "        ## Animaciones iniciales\n",
        "        self.play(Write(texto))\n",
        "        self.wait(2)\n"
      ]
    }
  ],
  "metadata": {
    "colab": {
      "provenance": []
    },
    "gpuClass": "standard",
    "kernelspec": {
      "display_name": "Python 3",
      "name": "python3"
    },
    "language_info": {
      "codemirror_mode": {
        "name": "ipython",
        "version": 3
      },
      "file_extension": ".py",
      "mimetype": "text/x-python",
      "name": "python",
      "nbconvert_exporter": "python",
      "pygments_lexer": "ipython3",
      "version": "3.11.3"
    }
  },
  "nbformat": 4,
  "nbformat_minor": 0
}
