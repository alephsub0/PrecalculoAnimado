{
  "cells": [
    {
      "cell_type": "markdown",
      "metadata": {},
      "source": [
        "<a href=\"https://colab.research.google.com/github/alephsub0/PrecalculoAnimado/00-test/test.ipynb\" target=\"_parent\"><img src=\"https://colab.research.google.com/assets/colab-badge.svg\" alt=\"Open In Colab\"/></a>"
      ]
    },
    {
      "cell_type": "markdown",
      "metadata": {
        "id": "7874KhzCYhGl"
      },
      "source": [
        "<table style=\"border: none; border-collapse: collapse;\">\n",
        "    <tr>\n",
        "        <td style=\"width: 20%; vertical-align: middle; padding-right: 10px;\">\n",
        "            <img src=\"https://i.imgur.com/yV8JEHd.png\" width=\"100\">\n",
        "        </td>\n",
        "        <td style=\"width: 2px; text-align: center;\">\n",
        "            <font color=\"#355492\" size=\"7\">|</font><br>\n",
        "            <font color=\"#355492\" size=\"7\">|</font>\n",
        "        </td>\n",
        "        <td>\n",
        "            <p style=\"font-variant: small-caps;\"><font color=\"#355492\" size=\"5\">\n",
        "                <b>Proyecto Alephsub0</b>\n",
        "            </font> </p>\n",
        "            <p style=\"font-variant: small-caps;\"><font color=\"#355492\" size=\"4\">\n",
        "                Precálculo Animado &bull; Test\n",
        "            </font></p>\n",
        "            <p style=\"font-style: oblique;\"><font color=\"#355492\" size=\"3\">\n",
        "                Andrés Merino &bull; Enero 2025\n",
        "            </font></p>\n",
        "        </td>  \n",
        "    </tr>\n",
        "</table>"
      ]
    },
    {
      "cell_type": "markdown",
      "metadata": {
        "id": "Ui-ZttPYb8_W"
      },
      "source": [
        "## Configuración\n"
      ]
    },
    {
      "cell_type": "code",
      "execution_count": 1,
      "metadata": {
        "id": "lkimQ-zOhyHc"
      },
      "outputs": [],
      "source": [
        "# !pip install manim\n",
        "from manim import *"
      ]
    },
    {
      "cell_type": "markdown",
      "metadata": {
        "id": "_i4mu496oGKr"
      },
      "source": [
        "Lo siguiente configura `manim` para dimensiones adecuadas para redes sociales."
      ]
    },
    {
      "cell_type": "code",
      "execution_count": 2,
      "metadata": {
        "id": "T4nDAkgusFzt"
      },
      "outputs": [],
      "source": [
        "config.media_width = \"25%\"  # Escala el video al 25% al mostrarlo en el cuaderno.\n",
        "config.verbosity = \"WARNING\"  # Muestra solo advertencias o errores.\n",
        "config.media_dir = \"tmp/media\"  # Carpeta base para los archivos generados.\n",
        "config.assets_dir = \"../../assets\" # Carpeta base para los archivos de recursos.\n",
        "\n",
        "# Cambia a video vertical\n",
        "config.frame_width = 8.0*0.975\n",
        "config.frame_height = config.frame_width * (16/9)\n"
      ]
    },
    {
      "cell_type": "code",
      "execution_count": 4,
      "metadata": {
        "id": "0KtfkXdjoCfP"
      },
      "outputs": [],
      "source": [
        "config.background_color = BLUE_E  # Color de fondo.\n"
      ]
    },
    {
      "cell_type": "markdown",
      "metadata": {
        "id": "8x0o3XqjoZAp"
      },
      "source": [
        "## Primera escena"
      ]
    },
    {
      "cell_type": "markdown",
      "metadata": {
        "id": "vt9wxVdX-EI1"
      },
      "source": [
        "Resoluciones pueden ser:\n",
        "```\n",
        "-r 270,480  -r 540,960 -r 1080,1920\n",
        "```\n",
        "Se tiene la opción de `-n` para establecer las subescenas."
      ]
    },
    {
      "cell_type": "code",
      "execution_count": 10,
      "metadata": {},
      "outputs": [
        {
          "data": {
            "text/html": [
              "<pre style=\"white-space:pre;overflow-x:auto;line-height:normal;font-family:Menlo,'DejaVu Sans Mono',consolas,'Courier New',monospace\">Manim Community <span style=\"color: #008000; text-decoration-color: #008000\">v0.19.0</span>\n",
              "\n",
              "</pre>\n"
            ],
            "text/plain": [
              "Manim Community \u001b[32mv0.\u001b[0m\u001b[32m19.0\u001b[0m\n",
              "\n"
            ]
          },
          "metadata": {},
          "output_type": "display_data"
        },
        {
          "name": "stderr",
          "output_type": "stream",
          "text": [
            "                                                                                                                                                                            \r"
          ]
        },
        {
          "data": {
            "text/html": [
              "<video src=\"tmp\\media\\jupyter\\PrimeraEscena@2025-01-23@22-05-05.mp4\" controls autoplay loop style=\"max-width: 25%;\"  >\n",
              "      Your browser does not support the <code>video</code> element.\n",
              "    </video>"
            ],
            "text/plain": [
              "<IPython.core.display.Video object>"
            ]
          },
          "metadata": {},
          "output_type": "display_data"
        }
      ],
      "source": [
        "%%manim -r 1080,1920 --fps 60  PrimeraEscena\n",
        "\n",
        "class PrimeraEscena(Scene):\n",
        "    def construct(self):\n",
        "        ## Textos\n",
        "        text_intro = Text(\n",
        "            \"Junto a mis alumnos,\\nestamos aprendiendo a\\ngenerar videos con\\nManim (Python).\",\n",
        "            line_spacing=0.9\n",
        "        ).to_edge(UP, buff=1)\n",
        "        text_second = Text(\n",
        "            \"Este es el resultado\\nde la segunda clase.\", \n",
        "            line_spacing=0.9\n",
        "        ).next_to(text_intro, DOWN, buff=1).align_to(text_intro, LEFT)\n",
        "        text_final = Text(\"¡Hasta la próxima!\")\n",
        "\n",
        "        ## Figuras geométricas\n",
        "        square = Square(color=RED, fill_opacity=1).scale(1.5).rotate(PI/4).move_to([0, -1, 0])\n",
        "        circle1 = Circle(color=RED, fill_opacity=1).scale(1.5).move_to([0, -1, 0])\n",
        "        circle2 = circle1.copy()\n",
        "\n",
        "        ## Animaciones iniciales\n",
        "        self.play(Create(text_intro), run_time=3)\n",
        "        self.wait(1)\n",
        "        self.play(Create(text_second))\n",
        "        self.wait(1)\n",
        "\n",
        "        ## Transición a las figuras geométricas\n",
        "        self.play(\n",
        "            ShrinkToCenter(text_intro),\n",
        "            text_second.animate.to_edge(UP, buff=1),\n",
        "            GrowFromCenter(square)\n",
        "        )\n",
        "        self.add(circle1, circle2)\n",
        "\n",
        "        ## Animación de movimiento de los círculos\n",
        "        self.play(\n",
        "            circle1.animate.shift([-1, 1, 0]),\n",
        "            circle2.animate.shift([1, 1, 0])\n",
        "        )\n",
        "        self.wait(1)\n",
        "\n",
        "        ## Efecto pulsante en las figuras\n",
        "        for _ in range(4):\n",
        "            self.play(\n",
        "                circle1.animate.scale(1.25).set_opacity(0.9),\n",
        "                circle2.animate.scale(1.25).set_opacity(0.9),\n",
        "                square.animate.scale(1.25).set_opacity(0.9),\n",
        "                run_time=0.7\n",
        "            )\n",
        "            self.play(\n",
        "                circle1.animate.scale(0.8).set_opacity(1),\n",
        "                circle2.animate.scale(0.8).set_opacity(1),\n",
        "                square.animate.scale(0.8).set_opacity(1),\n",
        "                run_time=0.7\n",
        "            )\n",
        "        self.wait(1)\n",
        "\n",
        "        ## Movimiento de salida hacia arriba\n",
        "        self.play(\n",
        "            circle1.animate.shift([0, 2, 0]).set_color(WHITE),\n",
        "            circle2.animate.shift([0, 2, 0]).set_color(WHITE),\n",
        "            square.animate.shift([0, 2, 0]).set_color(WHITE)\n",
        "        )\n",
        "        self.wait(1)\n",
        "        \n",
        "        ## Texto final\n",
        "        self.play(Create(text_final.next_to(square, DOWN, buff=1.5)))\n",
        "        self.wait(2)\n"
      ]
    },
    {
      "cell_type": "markdown",
      "metadata": {},
      "source": [
        "## Segunda escena"
      ]
    },
    {
      "cell_type": "code",
      "execution_count": null,
      "metadata": {},
      "outputs": [
        {
          "data": {
            "text/html": [
              "<pre style=\"white-space:pre;overflow-x:auto;line-height:normal;font-family:Menlo,'DejaVu Sans Mono',consolas,'Courier New',monospace\">Manim Community <span style=\"color: #008000; text-decoration-color: #008000\">v0.19.0</span>\n",
              "\n",
              "</pre>\n"
            ],
            "text/plain": [
              "Manim Community \u001b[32mv0.\u001b[0m\u001b[32m19.0\u001b[0m\n",
              "\n"
            ]
          },
          "metadata": {},
          "output_type": "display_data"
        },
        {
          "name": "stderr",
          "output_type": "stream",
          "text": [
            "                                                                                                                                                                            \r"
          ]
        },
        {
          "data": {
            "text/html": [
              "<video src=\"tmp\\media\\jupyter\\SegundaEscena@2025-01-23@22-06-15.mp4\" controls autoplay loop style=\"max-width: 25%;\"  >\n",
              "      Your browser does not support the <code>video</code> element.\n",
              "    </video>"
            ],
            "text/plain": [
              "<IPython.core.display.Video object>"
            ]
          },
          "metadata": {},
          "output_type": "display_data"
        }
      ],
      "source": [
        "%%manim -r 1080,1920 --fps 60 SegundaEscena\n",
        "\n",
        "class SegundaEscena(Scene):\n",
        "    def construct(self):\n",
        "        # Función para crear el tablero de ajedrez\n",
        "        def crear_tablero():\n",
        "            tablero_blancas = VGroup(*[\n",
        "                Square(side_length=1, color=WHITE, fill_opacity=1, fill_color=WHITE).shift(UP * n + LEFT * m)\n",
        "                for n in range(0, 8) for m in range(0, 8) if (n + m) % 2 == 0\n",
        "            ])\n",
        "            tablero_negras = VGroup(*[\n",
        "                Square(side_length=1, color=WHITE, fill_opacity=1, fill_color=BLACK).shift(UP * n + LEFT * m)\n",
        "                for n in range(0, 8) for m in range(0, 8) if (n + m) % 2 == 1\n",
        "            ])\n",
        "            return VGroup(tablero_blancas, tablero_negras).scale(0.8).move_to(ORIGIN), tablero_blancas, tablero_negras\n",
        "\n",
        "        # Función para crear piezas\n",
        "        def crear_pieza(nombre_svg, escala, posicion, color):\n",
        "            return SVGMobject(nombre_svg).scale(escala).move_to(posicion).set_color(color)\n",
        "\n",
        "        # Textos\n",
        "        tex01 = Text(\n",
        "            \"Junto a mis alumnos,\\nestamos aprendiendo a\\ngenerar videos con\\nManim (Python).\",\n",
        "            line_spacing=0.9\n",
        "        ).to_edge(UP, buff=2)\n",
        "        tex02 = Text(\"Este es el resultado\\nde la tercera clase.\", line_spacing=0.9)\n",
        "        tex03 = Text(\"¡Hasta la próxima!\").move_to([0, 2, 0])\n",
        "\n",
        "        # Imagen inicial\n",
        "        img01 = SVGMobject(\"bala.svg\").to_edge(LEFT, buff=-3.5)\n",
        "\n",
        "        # Tablero de ajedrez y piezas\n",
        "        tablero, tablero_blancas, tablero_negras = crear_tablero()\n",
        "        alfil = crear_pieza(\"alfil.svg\", 0.3, tablero_negras[0], BLACK)\n",
        "        torre = crear_pieza(\"torre.svg\", 0.3, tablero_blancas[15], WHITE)\n",
        "        peon1 = crear_pieza(\"peon.svg\", 0.3, tablero_negras[20], BLACK)\n",
        "        peon2 = crear_pieza(\"peon.svg\", 0.3, tablero_blancas[30], WHITE)\n",
        "        piezas = VGroup(alfil, torre, peon1, peon2)\n",
        "\n",
        "        ## Escena\n",
        "        \n",
        "        # Introducción con textos\n",
        "        self.play(Create(tex01), run_time=2)\n",
        "        self.wait(0.5)\n",
        "        self.play(Create(tex02.next_to(tex01, DOWN, buff=1).align_to(tex01, LEFT)))\n",
        "        self.wait(0.5)\n",
        "\n",
        "        # Transición al tablero\n",
        "        self.play(\n",
        "            ShrinkToCenter(tex01),\n",
        "            tex02.animate.to_edge(UP, buff=1.5),\n",
        "            img01.animate(rate_func=linear, run_time=1.5).to_edge(RIGHT, buff=-3.5)\n",
        "        )\n",
        "        self.wait(0.5)\n",
        "\n",
        "        # Creación del tablero\n",
        "        self.play(Create(tablero))\n",
        "        self.wait(0.5)\n",
        "        self.play(\n",
        "            tablero_blancas.animate.set_color(BLACK),\n",
        "            tablero_negras.animate.set_color(WHITE)\n",
        "        )\n",
        "        self.wait(0.5)\n",
        "\n",
        "        # Creación de piezas\n",
        "        self.play(*[Create(pieza) for pieza in piezas])\n",
        "        self.wait(0.5)\n",
        "\n",
        "        # Movimiento del alfil\n",
        "        movimientos_alfil = [18, 22, 4]\n",
        "        for mov in movimientos_alfil:\n",
        "            self.play(alfil.animate.move_to(tablero_negras[mov]))\n",
        "        self.wait(1)\n",
        "\n",
        "        # Eliminar el tablero y reorganizar las piezas\n",
        "        self.play(\n",
        "            FadeOut(tablero),\n",
        "            piezas.animate.arrange(RIGHT, buff=0.5).move_to(ORIGIN).scale(2)\n",
        "        )\n",
        "        self.wait(0.5)\n",
        "\n",
        "        # Mensaje final y disposición en cuadrícula\n",
        "        self.play(\n",
        "            Create(tex03),\n",
        "            piezas.animate.arrange_in_grid(2, 2, buff=0.5).shift(DOWN)\n",
        "        )\n",
        "        self.wait(2)\n"
      ]
    },
    {
      "cell_type": "markdown",
      "metadata": {},
      "source": [
        "## Tercera escena"
      ]
    },
    {
      "cell_type": "code",
      "execution_count": null,
      "metadata": {},
      "outputs": [],
      "source": [
        "# Definiciones adicionales\n",
        "class TexJ(Tex):\n",
        "    def __init__(self, texto, t_width=1, **kwargs):\n",
        "        # Envolver el texto en el entorno minipage\n",
        "        texto_minipage = f\"\\\\begin{{minipage}}{{{t_width*5} cm}}{texto}\\\\end{{minipage}}\"\n",
        "        super().__init__(texto_minipage, **kwargs)\n",
        "        self.scale(0.8)\n"
      ]
    },
    {
      "cell_type": "code",
      "execution_count": 22,
      "metadata": {},
      "outputs": [
        {
          "data": {
            "text/html": [
              "<pre style=\"white-space:pre;overflow-x:auto;line-height:normal;font-family:Menlo,'DejaVu Sans Mono',consolas,'Courier New',monospace\">Manim Community <span style=\"color: #008000; text-decoration-color: #008000\">v0.19.0</span>\n",
              "\n",
              "</pre>\n"
            ],
            "text/plain": [
              "Manim Community \u001b[32mv0.\u001b[0m\u001b[32m19.0\u001b[0m\n",
              "\n"
            ]
          },
          "metadata": {},
          "output_type": "display_data"
        },
        {
          "name": "stderr",
          "output_type": "stream",
          "text": [
            "                                                                                                                                                                          \r"
          ]
        },
        {
          "data": {
            "text/html": [
              "<video src=\"tmp\\media\\jupyter\\TerceraEscena@2025-01-23@22-23-40.mp4\" controls autoplay loop style=\"max-width: 25%;\"  >\n",
              "      Your browser does not support the <code>video</code> element.\n",
              "    </video>"
            ],
            "text/plain": [
              "<IPython.core.display.Video object>"
            ]
          },
          "metadata": {},
          "output_type": "display_data"
        }
      ],
      "source": [
        "%%manim -r 1080,1920 --fps 60 --tex_template ../../assets/aleph_template.tex TerceraEscena\n",
        "\n",
        "class TerceraEscena(Scene):\n",
        "    def construct(self):\n",
        "        ##############################\n",
        "        ### Objetos\n",
        "        # Textos principales\n",
        "        tex01 = Tex(r\"Junto a mis alumnos,\\\\ estamos aprendiendo a\\\\ generar videos con\\\\ Manim (Python).\").to_edge(UP, buff=2)\n",
        "        tex02 = Tex(r\"Este es el resultado\\\\ de la cuarta clase.\").next_to(tex01, DOWN, buff=1)\n",
        "        tex03 = Tex(r\"¡Hasta la próxima!\").move_to([0, 2, 0])\n",
        "\n",
        "        # Teoremas y enunciados\n",
        "        teo01 = Title(r\"Teorema 1\").shift([0, -3.5, 0])\n",
        "        enu01 = TexJ(r\"Un círculo puede deformarse continuamente en un cuadrado.\").move_to([0, 1.3, 0])\n",
        "        teo02 = Title(r\"Teorema 2\").shift([0, -3.5, 0])\n",
        "        enu02 = TexJ(r\"Si todos los límites existen, entonces:\").move_to([0, 1.3, 0])\n",
        "\n",
        "        # Fórmulas matemáticas\n",
        "        mat01 = MathTex(r\"\\lim\", \"(\", \"f(x)\", \"+\", \"g(x)\", \")=\").move_to([-1, 0, 0])\n",
        "        mat02 = MathTex(r\"\\lim\", \"f(x)\", \"+\", r\"\\lim\", \"g(x)\").next_to(mat01, DOWN, buff=0.5).shift([2, 0, 0])\n",
        "\n",
        "        # Figuras geométricas\n",
        "        fig01 = Circle(color=BLUE_A).move_to([-2, -1, 0])\n",
        "        fig02 = Square(color=RED_A).move_to([2, -1, 0])\n",
        "\n",
        "        ##############################\n",
        "        ### Escena\n",
        "        # Texto inicial\n",
        "        self.play(Write(tex01), run_time=2.5)\n",
        "        self.wait(0.5)\n",
        "        self.play(Write(tex02))\n",
        "        self.wait(0.5)\n",
        "        self.play(\n",
        "            ShrinkToCenter(tex01),\n",
        "            tex02.animate.to_edge(UP, buff=1.5)\n",
        "        )\n",
        "        self.wait(0.5)\n",
        "\n",
        "        # Teorema 1 y figuras geométricas\n",
        "        self.play(Write(teo01), Write(enu01), FadeIn(fig01), FadeIn(fig02))\n",
        "        self.wait(1)\n",
        "        self.play(ReplacementTransform(fig01.copy(), fig02), run_time=3)\n",
        "        self.wait(0.5)\n",
        "        self.play(FadeOut(fig01), FadeOut(fig02), FadeOut(enu01))\n",
        "        self.wait(0.5)\n",
        "\n",
        "        # Teorema 2 y fórmulas matemáticas\n",
        "        self.play(ReplacementTransform(teo01, teo02))\n",
        "        self.play(Write(enu02))\n",
        "        self.wait(0.5)\n",
        "        self.play(Write(mat01))\n",
        "        self.wait(0.5)\n",
        "        self.play(\n",
        "            Transform(mat01[0].copy(), mat02[0]),  # Transformación de \"lim\"\n",
        "            Transform(mat01[2].copy(), mat02[1]))  # Transformación de \"f(x)\"\n",
        "        self.wait(0.5)\n",
        "        self.play(\n",
        "            Transform(mat01[3].copy(), mat02[2]))  # Transformación de \"+\"\n",
        "        self.wait(0.5)\n",
        "        self.play(\n",
        "            ReplacementTransform(mat01[0].copy(), mat02[3]),  # Nuevo \"lim\"\n",
        "            Transform(mat01[4].copy(), mat02[4])   # Transformación de \"g(x)\"\n",
        "        )\n",
        "        self.wait(0.5)\n",
        "\n",
        "        # Despedida\n",
        "        self.play(\n",
        "            FadeOut(mat01),\n",
        "            FadeOut(mat02),\n",
        "            FadeOut(enu02),\n",
        "            FadeOut(teo02)\n",
        "        )\n",
        "        self.play(Write(tex03))\n",
        "        self.wait(1)\n"
      ]
    }
  ],
  "metadata": {
    "colab": {
      "provenance": []
    },
    "gpuClass": "standard",
    "kernelspec": {
      "display_name": "Python 3",
      "name": "python3"
    },
    "language_info": {
      "codemirror_mode": {
        "name": "ipython",
        "version": 3
      },
      "file_extension": ".py",
      "mimetype": "text/x-python",
      "name": "python",
      "nbconvert_exporter": "python",
      "pygments_lexer": "ipython3",
      "version": "3.11.3"
    }
  },
  "nbformat": 4,
  "nbformat_minor": 0
}
